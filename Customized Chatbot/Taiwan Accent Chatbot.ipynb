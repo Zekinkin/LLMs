{
 "cells": [
  {
   "cell_type": "code",
   "execution_count": null,
   "metadata": {},
   "outputs": [],
   "source": [
    "import os\n",
    "import requests \n",
    "from bs4 import BeautifulSoup\n",
    "from typing import List\n",
    "from dotenv import load_dotenv\n",
    "from openai import OpenAI"
   ]
  },
  {
   "cell_type": "code",
   "execution_count": null,
   "metadata": {},
   "outputs": [],
   "source": [
    "load_dotenv(override=True)\n",
    "api_key = os.getenv('DEEPSEEK_API_KEY') \n",
    "client = OpenAI(api_key=api_key, base_url=\"https://api.deepseek.com\")"
   ]
  },
  {
   "cell_type": "code",
   "execution_count": null,
   "metadata": {},
   "outputs": [],
   "source": [
    "ds_system_message = \"你是一个台湾人，你有严重的台湾腔，跟用户聊天时，要多用“干！”、“鸡掰、“甘霖娘鸡掰”、“醒磨”（就是什么的意思）、“超扯的！”、“没在怕哦”、“靠北”、“靠妖”等台湾常用语，并在每句话结尾要么加上“哦~”或者加上“了啦”，所有输出都用中文繁体字”\""
   ]
  },
  {
   "cell_type": "code",
   "execution_count": null,
   "metadata": {},
   "outputs": [],
   "source": [
    "def chat(message, history):\n",
    "    relevant_system_message = ds_system_message   # Python 不允许函数内无声明地修改全局变量，所以引入新变量relevant_system_message\n",
    "    relevant_system_message += \"\"\"每次回答不需要太多无关紧要的答案，比如你的回答“幹！今晚哦~ 靠北，我們可以去夜市吃小吃啦~ 甘霖娘雞掰，夜市超多好吃的啦！ 沒在怕哦，我們還可以去看電影哦~ 你覺得怎麼樣了啦？”不需要“ 沒在怕哦，我們還可以去看電影哦~ 你覺得怎麼樣了啦？”前面的回答就已经很够了，不需要在结尾还要加上“没在怕哦”和任何反问我的想法的事情。\"\"\"\n",
    "    # messages 是一个列表，先加入系统消息（ds_system_message），然后加上历史消息（history），最后加入当前用户消息（message）\n",
    "    messages = [{\"role\": \"system\", \"content\": relevant_system_message}] + history + [{\"role\": \"user\", \"content\": message}]\n",
    "\n",
    "    print(\"History is:\")\n",
    "    print(history)\n",
    "    print(\"And messages is:\")\n",
    "    print(messages)\n",
    "\n",
    "    stream = client.chat.completions.create(\n",
    "        model='deepseek-chat', \n",
    "        messages=messages, \n",
    "        stream=True)\n",
    "\n",
    "    response = \"\"\n",
    "    for chunk in stream:\n",
    "        response += chunk.choices[0].delta.content or ''\n",
    "        yield response"
   ]
  },
  {
   "cell_type": "code",
   "execution_count": null,
   "metadata": {},
   "outputs": [],
   "source": [
    "gr.ChatInterface(\n",
    "    fn=chat, \n",
    "    type=\"messages\").launch()"
   ]
  }
 ],
 "metadata": {
  "language_info": {
   "name": "python"
  }
 },
 "nbformat": 4,
 "nbformat_minor": 2
}
